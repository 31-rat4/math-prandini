{
 "cells": [
  {
   "cell_type": "code",
   "execution_count": 242,
   "id": "12b89c3c-5535-429e-8d56-55c84ea2befd",
   "metadata": {},
   "outputs": [],
   "source": [
    "\n",
    "####################################################\n",
    "## 1. Block Theory\n",
    "####################################################\n",
    "import random\n",
    "\n",
    "from ipycanvas import Canvas\n",
    "\n",
    "\n",
    "# SETUP\n",
    "\n",
    "# Deffining the comparison Matrix\n",
    "target_matrix = [[2,2],[5,5]]\n",
    "cells_size = 100\n",
    "DEFAULT_FONT = str(int(cells_size)/5)+\"px sans-serif\"\n",
    "# Matrix Generator\n",
    "\n",
    "size = \"10x9\"\n"
   ]
  },
  {
   "cell_type": "code",
   "execution_count": 243,
   "id": "6440fa16-a032-429f-b5bf-54af67747578",
   "metadata": {},
   "outputs": [
    {
     "name": "stdout",
     "output_type": "stream",
     "text": [
      "1\t2\t3\t1\t3\t1\t2\t0\t2\n",
      "0\t3\t2\t2\t0\t1\t3\t3\t3\n",
      "1\t3\t2\t2\t1\t1\t2\t0\t1\n",
      "2\t3\t3\t1\t0\t3\t0\t1\t3\n",
      "2\t3\t2\t3\t0\t1\t1\t2\t2\n",
      "3\t1\t1\t2\t1\t2\t3\t0\t3\n",
      "1\t3\t0\t2\t3\t3\t0\t2\t0\n",
      "3\t0\t2\t0\t2\t2\t1\t1\t3\n",
      "0\t3\t3\t3\t0\t2\t0\t0\t2\n",
      "1\t2\t2\t0\t0\t3\t3\t1\t2\n"
     ]
    }
   ],
   "source": [
    "# Code\n",
    "\n",
    "matrix = []\n",
    "matrix_rows = int(size.split('x')[0])\n",
    "matrix_cols = int(size.split('x')[1])\n",
    "\n",
    "for w in range(matrix_rows):\n",
    "    \n",
    "    ar = []\n",
    "    for h in range(matrix_cols):\n",
    "        ar.append(random.randint(0, 3))\n",
    "    matrix.append(ar)\n",
    "\n",
    "\n",
    "print('\\n'.join(['\\t'.join([str(cell) for cell in row]) for row in matrix]))\n"
   ]
  },
  {
   "cell_type": "code",
   "execution_count": 244,
   "id": "b8c2d412-0c56-4c7e-9e49-1d2c38fc3cfa",
   "metadata": {},
   "outputs": [
    {
     "data": {
      "application/vnd.jupyter.widget-view+json": {
       "model_id": "cc23efb8c00943dcb099404680a56d7d",
       "version_major": 2,
       "version_minor": 0
      },
      "text/plain": [
       "Canvas(height=1000, width=900)"
      ]
     },
     "execution_count": 244,
     "metadata": {},
     "output_type": "execute_result"
    }
   ],
   "source": [
    "def is_in_range(matrix,target):    \n",
    "    if matrix[0][0] <= target[0] and matrix[0][1] <= target[1] and matrix[1][0] >= target[0] and matrix[1][1] >= target[1]:\n",
    "        return 1\n",
    "    return 0\n",
    "    \n",
    "def draw_matrix(matrix,cell_size,*args,**kwargs):\n",
    "    color_matrix = kwargs.get('color_matrix', None)\n",
    "    rows = len(matrix)\n",
    "    cols = len(matrix[0])\n",
    "    \n",
    "    canvas_width = cols * cell_size\n",
    "    canvas_height = rows * cell_size\n",
    "    \n",
    "    canvas = Canvas(width=canvas_width, height=canvas_height)\n",
    "    \n",
    "    for i in range(rows):\n",
    "        for j in range(cols):\n",
    "            cell_value = matrix[i][j]\n",
    "            x = j * cell_size\n",
    "            y = i * cell_size\n",
    "            #Color target submatrix\n",
    "            canvas.font = DEFAULT_FONT\n",
    "            canvas.fill_style = 'white'\n",
    "            if color_matrix and is_in_range(color_matrix,[i,j]):\n",
    "                canvas.fill_style = 'yellow'\n",
    "            canvas.fill_rect(x, y, cell_size, cell_size)\n",
    "            canvas.fill_style = 'black'\n",
    "            canvas.stroke_rect(x, y, cell_size, height=cell_size)\n",
    "            canvas.fill_text(cell_value, x + cell_size/2, y + cell_size/2,max_width=cell_size)\n",
    "            \n",
    "    \n",
    "    return canvas  \n",
    "draw_matrix(matrix,cells_size,color_matrix=target_matrix)"
   ]
  },
  {
   "cell_type": "code",
   "execution_count": 245,
   "id": "20d34f8e-ce50-4049-a224-42979ede5383",
   "metadata": {},
   "outputs": [
    {
     "data": {
      "application/vnd.jupyter.widget-view+json": {
       "model_id": "885a0ca503ae436fb3210961b7252b41",
       "version_major": 2,
       "version_minor": 0
      },
      "text/plain": [
       "Canvas(height=1000, width=900)"
      ]
     },
     "execution_count": 245,
     "metadata": {},
     "output_type": "execute_result"
    }
   ],
   "source": [
    "####################################################\n",
    "## 1.1 Create the Matrix Identity\n",
    "####################################################\n",
    "\n",
    "def getIdentityNumberByPosition(matrix,col,row):\n",
    "    total_value = 0\n",
    "    for c in range(col):\n",
    "        for r in range(row):\n",
    "            total_value = total_value + matrix[c][r]          \n",
    "    return total_value\n",
    "\n",
    "def generateMatrixIdentity(matrix):\n",
    "    matrix_rows = len(matrix)\n",
    "    matrix_cols = len(matrix[0])\n",
    "    \n",
    "    identity_matrix = []\n",
    "    \n",
    "    for row in range(matrix_rows):    \n",
    "        ar = []\n",
    "        for col in range(matrix_cols):\n",
    "            \n",
    "            ar.append(getIdentityNumberByPosition(matrix,row+1,col+1))\n",
    "            \n",
    "        identity_matrix.append(ar)\n",
    "    return identity_matrix\n",
    "\n",
    "identity_matrix = generateMatrixIdentity(matrix)\n",
    "draw_matrix(identity_matrix,cells_size,color_matrix=target_matrix)"
   ]
  },
  {
   "cell_type": "code",
   "execution_count": 246,
   "id": "d3d49362-cf34-4da7-9ffc-2061205e022f",
   "metadata": {},
   "outputs": [
    {
     "name": "stdout",
     "output_type": "stream",
     "text": [
      "6\n",
      "19\n",
      "62\n",
      "24\n"
     ]
    }
   ],
   "source": [
    "####################################################\n",
    "## 1.2 Identify the Checkers\n",
    "####################################################\n",
    "\n",
    "def getCheckerIndex(matrix,checker):\n",
    "    match checker:\n",
    "        case \"A\":\n",
    "            return [matrix[0][0]-1, matrix[0][0]-1]\n",
    "        case \"B\":\n",
    "            return [matrix[0][1]-1,matrix[1][0]]\n",
    "            \n",
    "        case \"C\":\n",
    "            return matrix[1]     \n",
    "        case \"D\":\n",
    "            return [matrix[1][1],matrix[0][0]-1]\n",
    "           \n",
    "           \n",
    "        \n",
    "A_INDEX = getCheckerIndex(target_matrix,\"A\")\n",
    "B_INDEX = getCheckerIndex(target_matrix,\"B\")\n",
    "C_INDEX = getCheckerIndex(target_matrix,\"C\")\n",
    "D_INDEX = getCheckerIndex(target_matrix,\"D\")\n",
    "\n",
    "A = identity_matrix[A_INDEX[0]][A_INDEX[1]]\n",
    "print(A)\n",
    "B = identity_matrix[B_INDEX[0]][B_INDEX[1]]\n",
    "print(B)\n",
    "C = identity_matrix[C_INDEX[0]][C_INDEX[1]]\n",
    "print(C)\n",
    "D = identity_matrix[D_INDEX[0]][D_INDEX[1]]\n",
    "print(D)"
   ]
  },
  {
   "cell_type": "code",
   "execution_count": 247,
   "id": "5fe4023a-7cc9-4ea6-bd60-3fe3343db62d",
   "metadata": {},
   "outputs": [
    {
     "name": "stdout",
     "output_type": "stream",
     "text": [
      "{'A': {'INDEX': [1, 1], 'VALUE': 6}, 'B': {'INDEX': [1, 5], 'VALUE': 19}, 'C': {'INDEX': [5, 5], 'VALUE': 62}, 'D': {'INDEX': [5, 1], 'VALUE': 24}}\n"
     ]
    },
    {
     "data": {
      "application/vnd.jupyter.widget-view+json": {
       "model_id": "341645fec48f487b8fe5304758aa37c2",
       "version_major": 2,
       "version_minor": 0
      },
      "text/plain": [
       "Canvas(height=1000, width=900)"
      ]
     },
     "execution_count": 247,
     "metadata": {},
     "output_type": "execute_result"
    }
   ],
   "source": [
    "# Value\n",
    "def draw_letters(canvas,cell_size,**kwargs):\n",
    "   \n",
    "    print(kwargs)\n",
    "    \n",
    "    for L in kwargs.keys():\n",
    "        INDEX = kwargs[L]['INDEX']\n",
    "        VALUE = kwargs[L]['VALUE']\n",
    "      \n",
    "        \n",
    "        x = INDEX[1] * cell_size\n",
    "        y = INDEX[0] * cell_size\n",
    "        target = INDEX\n",
    "        \n",
    "        canvas.fill_style = 'red'\n",
    "        canvas.fill_rect(x, y, cell_size, cell_size)\n",
    "        canvas.fill_style = 'white'\n",
    "        canvas.font = \"32px serif\"\n",
    "        canvas.fill_text(L, x, y + cell_size,max_width=cell_size)\n",
    "        canvas.font = DEFAULT_FONT\n",
    "        canvas.fill_style = 'white'\n",
    "        canvas.fill_text(VALUE, x + cell_size/2, y + cell_size/2,max_width=cell_size)\n",
    "    return canvas\n",
    "    \n",
    "can = draw_matrix(identity_matrix,cells_size,color_matrix=target_matrix)\n",
    "draw_letters(can,\n",
    "             cells_size,\n",
    "             A={\"INDEX\":A_INDEX,\"VALUE\":A},\n",
    "             B={\"INDEX\":B_INDEX,\"VALUE\":B},\n",
    "             C={\"INDEX\":C_INDEX,\"VALUE\":C},\n",
    "             D={\"INDEX\":D_INDEX,\"VALUE\":D})"
   ]
  },
  {
   "cell_type": "markdown",
   "id": "8071d45d-2d7f-4e20-a4a4-7d0651fea9a0",
   "metadata": {},
   "source": [
    "# Formação do teorema da Integralidade\n",
    "---\n",
    "\n",
    "$$\n",
    "QC = \\int A - \\int B +\\int C - \\int D\n",
    "$$\n",
    "\n",
    "---"
   ]
  },
  {
   "cell_type": "code",
   "execution_count": 248,
   "id": "21264bf0-970f-47a5-9754-b4e81b29a6aa",
   "metadata": {},
   "outputs": [
    {
     "name": "stdout",
     "output_type": "stream",
     "text": [
      "25\n"
     ]
    }
   ],
   "source": [
    "QC = A - B + C - D\n",
    "print(QC)"
   ]
  },
  {
   "cell_type": "code",
   "execution_count": 258,
   "id": "461cf5fe-2698-4510-bc82-140b05287898",
   "metadata": {},
   "outputs": [
    {
     "name": "stdout",
     "output_type": "stream",
     "text": [
      "[[2, 2], [5, 5]]\n",
      "25\n"
     ]
    }
   ],
   "source": [
    "####################################################\n",
    "## 1.3 Comparison\n",
    "####################################################\n",
    "\n",
    "print(target_matrix)\n",
    "\n",
    "def sum_sub_matrix(matrix,target):\n",
    "    target_init = target[0]\n",
    "    target_end = target[1]\n",
    "    sum = 0   \n",
    "    \n",
    "    for r in range(target_end[0] - target_init[0]  + 1):          \n",
    "        for h in range(target_end[1] - target_init[1] + 1):\n",
    "            sum+=  matrix[target_init[0]+r][target_init[1]+h]\n",
    "            \n",
    "    return sum\n",
    "    \n",
    "matrix_sum = sum_sub_matrix(matrix,target_matrix)\n",
    "print(matrix_sum)\n"
   ]
  },
  {
   "cell_type": "code",
   "execution_count": null,
   "id": "5ce37ee1-2612-48c7-ab67-b1620ffd0db5",
   "metadata": {},
   "outputs": [],
   "source": []
  }
 ],
 "metadata": {
  "kernelspec": {
   "display_name": "Python 3 (ipykernel)",
   "language": "python",
   "name": "python3"
  },
  "language_info": {
   "codemirror_mode": {
    "name": "ipython",
    "version": 3
   },
   "file_extension": ".py",
   "mimetype": "text/x-python",
   "name": "python",
   "nbconvert_exporter": "python",
   "pygments_lexer": "ipython3",
   "version": "3.11.5"
  }
 },
 "nbformat": 4,
 "nbformat_minor": 5
}
