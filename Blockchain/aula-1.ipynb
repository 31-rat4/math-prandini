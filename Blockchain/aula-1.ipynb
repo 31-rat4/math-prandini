{
 "cells": [
  {
   "cell_type": "code",
   "execution_count": 8,
   "id": "12b89c3c-5535-429e-8d56-55c84ea2befd",
   "metadata": {},
   "outputs": [
    {
     "name": "stdout",
     "output_type": "stream",
     "text": [
      "Matrix= [[78, 82, 54, 46, 53, 49, 71, 64, 30], [30, 79, 9, 51, 74, 73, 94, 98, 37], [39, 51, 49, 78, 59, 38, 92, 66, 81], [57, 72, 88, 51, 77, 18, 37, 10, 64], [73, 16, 43, 52, 32, 46, 42, 76, 54], [91, 37, 13, 99, 9, 27, 16, 69, 28], [29, 63, 85, 6, 3, 46, 72, 76, 91], [92, 94, 52, 25, 40, 62, 97, 52, 86], [73, 91, 88, 42, 88, 81, 25, 9, 71], [69, 99, 73, 70, 61, 70, 37, 72, 29]]\n"
     ]
    }
   ],
   "source": [
    "\n",
    "####################################################\n",
    "## 1. Block Theory\n",
    "####################################################\n",
    "import random\n",
    "import tensorflow as tf\n",
    "from ipycanvas import Canvas\n",
    "# SETUP\n",
    "# Matrix Generator\n",
    "\n",
    "size = \"10x9\"\n",
    "\n",
    "# Code\n",
    "\n",
    "matrix = []\n",
    "matrix_w = int(size.split('x')[0])\n",
    "matrix_h = int(size.split('x')[1])\n",
    "\n",
    "for w in range(matrix_w):\n",
    "    \n",
    "    ar = []\n",
    "    for h in range(matrix_h):\n",
    "        ar.append(random.randint(0, 100))\n",
    "    matrix.append(ar)\n",
    "\n",
    "print(\"Matrix=\",matrix)\n"
   ]
  },
  {
   "cell_type": "code",
   "execution_count": 39,
   "id": "b8c2d412-0c56-4c7e-9e49-1d2c38fc3cfa",
   "metadata": {},
   "outputs": [
    {
     "data": {
      "application/vnd.jupyter.widget-view+json": {
       "model_id": "511c494722c44387a261c14228647dcf",
       "version_major": 2,
       "version_minor": 0
      },
      "text/plain": [
       "Canvas(height=800, width=720)"
      ]
     },
     "execution_count": 39,
     "metadata": {},
     "output_type": "execute_result"
    }
   ],
   "source": [
    "\n",
    "\n",
    "def draw_matrix(matrix,cell_size):\n",
    "    rows = len(matrix)\n",
    "    cols = len(matrix[0])\n",
    "    \n",
    "    canvas_width = cols * cell_size\n",
    "    canvas_height = rows * cell_size\n",
    "    \n",
    "    canvas = Canvas(width=canvas_width, height=canvas_height)\n",
    "    \n",
    "    for i in range(rows):\n",
    "        for j in range(cols):\n",
    "            cell_value = matrix[i][j]\n",
    "            x = j * cell_size\n",
    "            y = i * cell_size\n",
    "            canvas.fill_style = 'white'\n",
    "            canvas.fill_rect(x, y, cell_size, cell_size)\n",
    "            canvas.fill_style = 'black'\n",
    "            canvas.stroke_rect(x, y, cell_size, height=cell_size)\n",
    "            canvas.fill_text(cell_value, x + cell_size/2, y + cell_size/2,max_width=cell_size)\n",
    "            \n",
    "    \n",
    "    return canvas\n",
    "    \n",
    "draw_matrix(matrix,80)"
   ]
  },
  {
   "cell_type": "code",
   "execution_count": null,
   "id": "20d34f8e-ce50-4049-a224-42979ede5383",
   "metadata": {},
   "outputs": [],
   "source": []
  }
 ],
 "metadata": {
  "kernelspec": {
   "display_name": "Python 3 (ipykernel)",
   "language": "python",
   "name": "python3"
  },
  "language_info": {
   "codemirror_mode": {
    "name": "ipython",
    "version": 3
   },
   "file_extension": ".py",
   "mimetype": "text/x-python",
   "name": "python",
   "nbconvert_exporter": "python",
   "pygments_lexer": "ipython3",
   "version": "3.11.5"
  }
 },
 "nbformat": 4,
 "nbformat_minor": 5
}
