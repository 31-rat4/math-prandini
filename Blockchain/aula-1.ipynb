{
 "cells": [
  {
   "cell_type": "code",
   "execution_count": null,
   "id": "e693d02b-834e-4265-83b4-1bc50583ffe9",
   "metadata": {},
   "outputs": [],
   "source": [
    "print(\"Hello Word !\")"
   ]
  }
 ],
 "metadata": {
  "kernelspec": {
   "display_name": "Python 3 (ipykernel)",
   "language": "python",
   "name": "python3"
  },
  "language_info": {
   "codemirror_mode": {
    "name": "ipython",
    "version": 3
   },
   "file_extension": ".py",
   "mimetype": "text/x-python",
   "name": "python",
   "nbconvert_exporter": "python",
   "pygments_lexer": "ipython3",
   "version": "3.11.2"
  }
 },
 "nbformat": 4,
 "nbformat_minor": 5
}
