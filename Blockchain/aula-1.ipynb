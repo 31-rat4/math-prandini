{
 "cells": [
  {
   "cell_type": "code",
   "execution_count": 89,
   "id": "12b89c3c-5535-429e-8d56-55c84ea2befd",
   "metadata": {},
   "outputs": [
    {
     "name": "stdout",
     "output_type": "stream",
     "text": [
      "1\t0\t1\t1\t0\t3\t1\t1\t1\n",
      "2\t0\t3\t0\t2\t0\t1\t2\t3\n",
      "3\t3\t2\t0\t1\t2\t0\t1\t0\n",
      "1\t2\t3\t2\t0\t1\t2\t2\t0\n",
      "2\t1\t0\t0\t0\t2\t2\t0\t3\n",
      "2\t0\t2\t2\t0\t0\t3\t2\t3\n",
      "0\t3\t1\t3\t2\t2\t1\t0\t2\n",
      "1\t1\t1\t3\t1\t3\t0\t2\t3\n",
      "0\t0\t2\t1\t3\t3\t3\t1\t3\n",
      "0\t0\t0\t3\t3\t1\t1\t1\t0\n"
     ]
    }
   ],
   "source": [
    "\n",
    "####################################################\n",
    "## 1. Block Theory\n",
    "####################################################\n",
    "import random\n",
    "\n",
    "from ipycanvas import Canvas\n",
    "# SETUP\n",
    "# Matrix Generator\n",
    "\n",
    "size = \"10x9\"\n",
    "\n",
    "# Code\n",
    "\n",
    "matrix = []\n",
    "matrix_rows = int(size.split('x')[0])\n",
    "matrix_cols = int(size.split('x')[1])\n",
    "\n",
    "for w in range(matrix_rows):\n",
    "    \n",
    "    ar = []\n",
    "    for h in range(matrix_cols):\n",
    "        ar.append(random.randint(0, 3))\n",
    "    matrix.append(ar)\n",
    "\n",
    "\n",
    "print('\\n'.join(['\\t'.join([str(cell) for cell in row]) for row in matrix]))\n"
   ]
  },
  {
   "cell_type": "code",
   "execution_count": 90,
   "id": "b8c2d412-0c56-4c7e-9e49-1d2c38fc3cfa",
   "metadata": {},
   "outputs": [
    {
     "data": {
      "application/vnd.jupyter.widget-view+json": {
       "model_id": "b4af24b822464e48b753fd7b3dd09b6d",
       "version_major": 2,
       "version_minor": 0
      },
      "text/plain": [
       "Canvas(width=450)"
      ]
     },
     "execution_count": 90,
     "metadata": {},
     "output_type": "execute_result"
    }
   ],
   "source": [
    "def is_in_range(matrix,target):    \n",
    "    if matrix[0][0] <= target[0] and matrix[0][1] <= target[1] and matrix[1][0] >= target[0] and matrix[1][1] >= target[1]:\n",
    "        return 1\n",
    "    return 0\n",
    "    \n",
    "def draw_matrix(matrix,cell_size,*args,**kwargs):\n",
    "    color_matrix = kwargs.get('color_matrix', None)\n",
    "    rows = len(matrix)\n",
    "    cols = len(matrix[0])\n",
    "    \n",
    "    canvas_width = cols * cell_size\n",
    "    canvas_height = rows * cell_size\n",
    "    \n",
    "    canvas = Canvas(width=canvas_width, height=canvas_height)\n",
    "    \n",
    "    for i in range(rows):\n",
    "        for j in range(cols):\n",
    "            cell_value = matrix[i][j]\n",
    "            x = j * cell_size\n",
    "            y = i * cell_size\n",
    "            #Color target submatrix\n",
    "            canvas.fill_style = 'white'\n",
    "            if color_matrix and is_in_range(color_matrix,[i,j]):\n",
    "                canvas.fill_style = 'yellow'\n",
    "            canvas.fill_rect(x, y, cell_size, cell_size)\n",
    "            canvas.fill_style = 'black'\n",
    "            canvas.stroke_rect(x, y, cell_size, height=cell_size)\n",
    "            canvas.fill_text(cell_value, x + cell_size/2, y + cell_size/2,max_width=cell_size)\n",
    "            \n",
    "    \n",
    "    return canvas\n",
    "    \n",
    "draw_matrix(matrix,50,)"
   ]
  },
  {
   "cell_type": "code",
   "execution_count": 91,
   "id": "bb1dfa0b-5cab-4083-ac3a-2bac8ff156ed",
   "metadata": {},
   "outputs": [
    {
     "data": {
      "application/vnd.jupyter.widget-view+json": {
       "model_id": "966260e60b1f436ea50e198852537bff",
       "version_major": 2,
       "version_minor": 0
      },
      "text/plain": [
       "Canvas(width=450)"
      ]
     },
     "execution_count": 91,
     "metadata": {},
     "output_type": "execute_result"
    }
   ],
   "source": [
    "# Deffining the comparison Matrix\n",
    "target_matrix = [[1,1],[4,4]]\n",
    "cells_size = 50\n",
    "draw_matrix(matrix,cells_size,color_matrix=target_matrix)"
   ]
  },
  {
   "cell_type": "code",
   "execution_count": 109,
   "id": "20d34f8e-ce50-4049-a224-42979ede5383",
   "metadata": {},
   "outputs": [
    {
     "data": {
      "application/vnd.jupyter.widget-view+json": {
       "model_id": "d39b9ee2089946789e022560661dbf5c",
       "version_major": 2,
       "version_minor": 0
      },
      "text/plain": [
       "Canvas(width=450)"
      ]
     },
     "execution_count": 109,
     "metadata": {},
     "output_type": "execute_result"
    }
   ],
   "source": [
    "####################################################\n",
    "## 1.1 Create the Matrix Identity\n",
    "####################################################\n",
    "\n",
    "def getIdentityNumberByPosition(matrix,col,row):\n",
    "    total_value = 0\n",
    "    for c in range(col):\n",
    "        for r in range(row):\n",
    "            total_value = total_value + matrix[c][r]          \n",
    "    return total_value\n",
    "\n",
    "def generateMatrixIdentity(matrix):\n",
    "    matrix_rows = len(matrix)\n",
    "    matrix_cols = len(matrix[0])\n",
    "    \n",
    "    identity_matrix = []\n",
    "    \n",
    "    for row in range(matrix_rows):    \n",
    "        ar = []\n",
    "        for col in range(matrix_cols):\n",
    "            \n",
    "            ar.append(getIdentityNumberByPosition(matrix,row+1,col+1))\n",
    "            \n",
    "        identity_matrix.append(ar)\n",
    "    return identity_matrix\n",
    "\n",
    "identity_matrix = generateMatrixIdentity(matrix)\n",
    "draw_matrix(identity_matrix,50,color_matrix=target_matrix)"
   ]
  },
  {
   "cell_type": "code",
   "execution_count": 115,
   "id": "d3d49362-cf34-4da7-9ffc-2061205e022f",
   "metadata": {},
   "outputs": [
    {
     "name": "stdout",
     "output_type": "stream",
     "text": [
      "[1, 1]\n",
      "[1, 4]\n",
      "[4, 4]\n",
      "[4, 1]\n"
     ]
    }
   ],
   "source": [
    "####################################################\n",
    "## 1.2 Identify the Checkers\n",
    "####################################################\n",
    "\n",
    "def getCheckerIndex(matrix,checker):\n",
    "    match checker:\n",
    "        case \"A\":\n",
    "            return matrix[0]\n",
    "        case \"B\":\n",
    "            return [matrix[0][1],matrix[1][0]]\n",
    "            \n",
    "        case \"C\":\n",
    "            return matrix[1]     \n",
    "        case \"D\":\n",
    "            return [matrix[1][1],matrix[0][0]]\n",
    "           \n",
    "           \n",
    "        \n",
    "A_INDEX = getCheckerIndex(target_matrix,\"A\")\n",
    "print(A_INDEX)\n",
    "B_INDEX = getCheckerIndex(target_matrix,\"B\")\n",
    "print(B_INDEX)\n",
    "C_INDEX = getCheckerIndex(target_matrix,\"C\")\n",
    "print(C_INDEX)\n",
    "D_INDEX = getCheckerIndex(target_matrix,\"D\")\n",
    "print(D_INDEX)"
   ]
  },
  {
   "cell_type": "code",
   "execution_count": 117,
   "id": "5fe4023a-7cc9-4ea6-bd60-3fe3343db62d",
   "metadata": {},
   "outputs": [
    {
     "name": "stdout",
     "output_type": "stream",
     "text": [
      "3\n",
      "10\n",
      "30\n",
      "15\n"
     ]
    }
   ],
   "source": [
    "# Value\n",
    "A = identity_matrix[A_INDEX[0]][A_INDEX[1]]\n",
    "print(A)\n",
    "B = identity_matrix[B_INDEX[0]][B_INDEX[1]]\n",
    "print(B)\n",
    "C = identity_matrix[C_INDEX[0]][C_INDEX[1]]\n",
    "print(C)\n",
    "D = identity_matrix[D_INDEX[0]][D_INDEX[1]]\n",
    "print(D)\n"
   ]
  },
  {
   "cell_type": "code",
   "execution_count": 116,
   "id": "91bedd99-1c2a-4cc5-82d0-7024c99805c1",
   "metadata": {},
   "outputs": [
    {
     "name": "stdout",
     "output_type": "stream",
     "text": [
      "[[1, 1, 2, 3, 3, 6, 7, 8, 9], [3, 3, 7, 8, 10, 13, 15, 18, 22], [6, 9, 15, 16, 19, 24, 26, 30, 34], [7, 12, 21, 24, 27, 33, 37, 43, 47], [9, 15, 24, 27, 30, 38, 44, 50, 57], [11, 17, 28, 33, 36, 44, 53, 61, 71], [11, 20, 32, 40, 45, 55, 65, 73, 85], [12, 22, 35, 46, 52, 65, 75, 85, 100], [12, 22, 37, 49, 58, 74, 87, 98, 116], [12, 22, 37, 52, 64, 81, 95, 107, 125]]\n"
     ]
    }
   ],
   "source": [
    "print(identity_matrix)"
   ]
  },
  {
   "cell_type": "code",
   "execution_count": null,
   "id": "e53812cf-e578-4562-b169-a33f0f0ce7c1",
   "metadata": {},
   "outputs": [],
   "source": []
  }
 ],
 "metadata": {
  "kernelspec": {
   "display_name": "Python 3 (ipykernel)",
   "language": "python",
   "name": "python3"
  },
  "language_info": {
   "codemirror_mode": {
    "name": "ipython",
    "version": 3
   },
   "file_extension": ".py",
   "mimetype": "text/x-python",
   "name": "python",
   "nbconvert_exporter": "python",
   "pygments_lexer": "ipython3",
   "version": "3.11.5"
  }
 },
 "nbformat": 4,
 "nbformat_minor": 5
}
