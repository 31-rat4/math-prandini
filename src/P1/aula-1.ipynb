{
 "cells": [
  {
   "cell_type": "code",
   "execution_count": 1,
   "id": "36bcb83b-7ba7-4298-a49f-b7306a71d325",
   "metadata": {},
   "outputs": [
    {
     "name": "stdout",
     "output_type": "stream",
     "text": [
      "alou\n"
     ]
    }
   ],
   "source": [
    "print(\"alou\")"
   ]
  },
  {
   "cell_type": "code",
   "execution_count": 2,
   "id": "148bdebb-4e31-42e7-a2c7-95f84af82674",
   "metadata": {},
   "outputs": [
    {
     "name": "stdout",
     "output_type": "stream",
     "text": [
      "xiao\n"
     ]
    }
   ],
   "source": [
    "print(\"xiao\")"
   ]
  }
 ],
 "metadata": {
  "kernelspec": {
   "display_name": "Python 3 (ipykernel)",
   "language": "python",
   "name": "python3"
  },
  "language_info": {
   "codemirror_mode": {
    "name": "ipython",
    "version": 3
   },
   "file_extension": ".py",
   "mimetype": "text/x-python",
   "name": "python",
   "nbconvert_exporter": "python",
   "pygments_lexer": "ipython3",
   "version": "3.11.7"
  }
 },
 "nbformat": 4,
 "nbformat_minor": 5
}
