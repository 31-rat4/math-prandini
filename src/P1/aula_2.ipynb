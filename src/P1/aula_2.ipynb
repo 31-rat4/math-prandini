{
 "cells": [
  {
   "cell_type": "code",
   "execution_count": 1,
   "id": "36bcb83b-7ba7-4298-a49f-b7306a71d325",
   "metadata": {},
   "outputs": [],
   "source": [
    "####################################################\n",
    "################# 2. Prima Aequatio ################\n",
    "####################################################\n",
    "import random\n",
    "from ipycanvas import Canvas"
   ]
  },
  {
   "cell_type": "code",
   "execution_count": 52,
   "id": "5d0e3498",
   "metadata": {},
   "outputs": [
    {
     "data": {
      "application/vnd.jupyter.widget-view+json": {
       "model_id": "137786bd76db432d8424ebf876a0a7db",
       "version_major": 2,
       "version_minor": 0
      },
      "text/plain": [
       "Canvas(height=400, width=400)"
      ]
     },
     "execution_count": 52,
     "metadata": {},
     "output_type": "execute_result"
    }
   ],
   "source": [
    "from ipycanvas import Canvas\n",
    "\n",
    "w, h = 400, 400\n",
    "s_x, s_y = int(w/10), int(h/10)\n",
    "x, y = w-s_x, h-s_y\n",
    "min_size = int(w/9)\n",
    "r_x = random.randint(s_x +min_size , x -80)\n",
    "r_y = r_x \n",
    "canvas = Canvas(width=w, height=h)\n",
    "\n",
    "rects_coordinates = [[s_x, s_y, (r_x - s_x) , (r_y - s_y)], [r_x, s_y , (x - r_x) , (r_y - s_y)], [s_x, r_y, (r_x - s_x), (y - r_y)],[r_x, r_y, (x-r_x), (y - r_y)]] \n",
    "                     \n",
    "canvas.fill_style = \"black\"\n",
    "canvas.fill_rect(0,0,canvas.width,canvas.height)\n",
    "canvas.fill_style = \"white\"\n",
    "canvas.fill_rect(s_x, s_y, x - s_x, y - s_y)\n",
    "eq = \"X^2 + \"\n",
    "for index, rect in enumerate(rects_coordinates):\n",
    "    canvas.stroke_rect(rect[0], rect[1], rect[2], rect[3])\n",
    "    canvas.font = \"32px serif\"\n",
    "    \n",
    "    canvas.fill_style = \"black\"\n",
    "    text_x,text_y = (int(rect[2]/15) + (rect[0])), (int(rect[3]/2) + (rect[1]))\n",
    "    \n",
    "    match index:\n",
    "        case 0:\n",
    "            text = \"XX\"\n",
    "        case 1:\n",
    "            text =f\"{int(rect[3]/10)}x\"\n",
    "            eq += f\"{int(rect[3]/10)*2}x + \"\n",
    "        case 2:\n",
    "            text = f\"{int(rect[2]/10)}x\"\n",
    "        case 3:\n",
    "            text = str(int(rects_coordinates[1][3]/10) * int(rects_coordinates[1][3]/10))\n",
    "            eq += text\n",
    "        \n",
    "        \n",
    "    canvas.fill_text(text, text_x, text_y)\n",
    "    \n",
    "canvas.fill_style = \"white\"\n",
    "canvas.fill_text(eq, w/4, 30)\n",
    "canvas"
   ]
  },
  {
   "cell_type": "code",
   "execution_count": null,
   "id": "15d769ad",
   "metadata": {},
   "outputs": [],
   "source": []
  },
  {
   "cell_type": "code",
   "execution_count": null,
   "id": "be240773",
   "metadata": {},
   "outputs": [],
   "source": []
  },
  {
   "cell_type": "code",
   "execution_count": null,
   "id": "693cffb8",
   "metadata": {},
   "outputs": [],
   "source": []
  }
 ],
 "metadata": {
  "kernelspec": {
   "display_name": "Python 3 (ipykernel)",
   "language": "python",
   "name": "python3"
  },
  "language_info": {
   "codemirror_mode": {
    "name": "ipython",
    "version": 3
   },
   "file_extension": ".py",
   "mimetype": "text/x-python",
   "name": "python",
   "nbconvert_exporter": "python",
   "pygments_lexer": "ipython3",
   "version": "3.11.7"
  }
 },
 "nbformat": 4,
 "nbformat_minor": 5
}
