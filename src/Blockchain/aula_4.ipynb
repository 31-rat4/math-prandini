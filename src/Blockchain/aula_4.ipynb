{
 "cells": [
  {
   "cell_type": "code",
   "execution_count": 5,
   "id": "610d96c2-7c44-4c66-af94-6b29a6858273",
   "metadata": {},
   "outputs": [
    {
     "name": "stdout",
     "output_type": "stream",
     "text": [
      "data:\n",
      "['data1', 'data2', 'data3', 'data4']\n",
      "test\n",
      "[['5b41362bc82b7f3d56edc5a306db22105707d01ff4819e26faef9724a2d406c9', 'd98cf53e0c8b77c14a96358d5b69584225b4bb9026423cbc2f7b0161894c402c', 'f60f2d65da046fcaaf8a10bd96b5630104b629e111aff46ce89792e1caa11b18', '02c6edc2ad3e1f2f9a9c8fea18c0702c4d2d753440315037bc7f84ea4bba2542']]\n",
      "Merkle Root: 51a0d54f81dcc317ea21d2125c65d796eac64e7c52b886d40388cf1f1abf93eb\n",
      "Merkle Tree: \n",
      "['5b41362bc82b7f3d56edc5a306db22105707d01ff4819e26faef9724a2d406c9', 'd98cf53e0c8b77c14a96358d5b69584225b4bb9026423cbc2f7b0161894c402c', 'f60f2d65da046fcaaf8a10bd96b5630104b629e111aff46ce89792e1caa11b18', '02c6edc2ad3e1f2f9a9c8fea18c0702c4d2d753440315037bc7f84ea4bba2542']\n",
      "['7a598b35dcbb2b6c7b45ffc1e4152a1f822ef41f68fff3a1b457d057629d89ec', '23431736aac0ab2cab427b40cae8253bf66e3fb5721f34696cf54730aefce451']\n",
      "['51a0d54f81dcc317ea21d2125c65d796eac64e7c52b886d40388cf1f1abf93eb']\n"
     ]
    }
   ],
   "source": [
    "####################################################\n",
    "## 1.0 Merkel tree\n",
    "####################################################\n",
    "\n",
    "import hashlib\n",
    "\n",
    "class MerkleTree:\n",
    "    def __init__(self, leaves):\n",
    "        self.leaves = [self.hash_leaf(leaf) for leaf in leaves]\n",
    "        self.tree = self.build_tree(self.leaves)\n",
    "\n",
    "    def hash_leaf(self, leaf):\n",
    "        return hashlib.sha256(leaf.encode()).hexdigest()\n",
    "\n",
    "    def hash_node(self, left, right):\n",
    "        return hashlib.sha256((left + right).encode()).hexdigest()\n",
    "\n",
    "    def build_tree(self, leaves):\n",
    "        tree = [leaves]\n",
    "      \n",
    "        while len(tree[-1]) > 1:\n",
    "            current_level = tree[-1]\n",
    "            next_level = []\n",
    "            for i in range(0, len(current_level), 2):\n",
    "                left = current_level[i]\n",
    "                right = current_level[i + 1] if i + 1 < len(current_level) else current_level[i]\n",
    "                next_level.append(self.hash_node(left, right))\n",
    "            tree.append(next_level)\n",
    "        return tree\n",
    "\n",
    "    def get_root(self):\n",
    "        return self.tree[-1][0] if self.tree else None\n",
    "\n",
    "    def print_tree(self):\n",
    "        print(\"Merkle Tree: \")\n",
    "        for level in self.tree:\n",
    "            print(level)\n",
    "\n",
    "# Example usage\n",
    "if __name__ == \"__main__\":\n",
    "    data_blocks = [\"data1\", \"data2\", \"data3\", \"data4\"]\n",
    "    print(\"data:\")\n",
    "    print(data_blocks)\n",
    "    merkle_tree = MerkleTree(data_blocks)\n",
    "    print(\"Merkle Root:\", merkle_tree.get_root())\n",
    "    merkle_tree.print_tree()"
   ]
  },
  {
   "cell_type": "code",
   "execution_count": null,
   "id": "334ad49d-b59b-4b70-9c1e-291af7a7704d",
   "metadata": {},
   "outputs": [],
   "source": []
  }
 ],
 "metadata": {
  "kernelspec": {
   "display_name": "Python 3 (ipykernel)",
   "language": "python",
   "name": "python3"
  },
  "language_info": {
   "codemirror_mode": {
    "name": "ipython",
    "version": 3
   },
   "file_extension": ".py",
   "mimetype": "text/x-python",
   "name": "python",
   "nbconvert_exporter": "python",
   "pygments_lexer": "ipython3",
   "version": "3.11.5"
  }
 },
 "nbformat": 4,
 "nbformat_minor": 5
}
