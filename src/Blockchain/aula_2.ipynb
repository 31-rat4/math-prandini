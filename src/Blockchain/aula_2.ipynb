{
 "cells": [
  {
   "cell_type": "code",
   "execution_count": null,
   "id": "ee730437-cc76-49f3-ae3b-21f6478cebf6",
   "metadata": {},
   "outputs": [],
   "source": [
    "\n"
   ]
  },
  {
   "cell_type": "code",
   "execution_count": 75,
   "id": "19ec25bf-b73f-49f5-b6b6-d08207877b92",
   "metadata": {},
   "outputs": [
    {
     "name": "stdout",
     "output_type": "stream",
     "text": [
      "All derangements of ABCD:\n",
      "BADC\n",
      "BCDA\n",
      "BDAC\n",
      "CADB\n",
      "CDAB\n",
      "CDBA\n",
      "DABC\n",
      "DCAB\n",
      "DCBA\n"
     ]
    }
   ],
   "source": [
    "####################################################\n",
    "## 1. Derangement\n",
    "####################################################\n",
    "\n",
    "\n",
    "\n",
    "def generate_permutations(s):\n",
    "    # Helper function to generate all permutations of a string\n",
    "    if len(s) == 1:\n",
    "        return [s]\n",
    "    permutations = []\n",
    "    for i in range(len(s)):\n",
    "        # Take the current character\n",
    "        current_char = s[i]\n",
    "        # Form the remaining string after removing the current character\n",
    "        remaining_string = s[:i] + s[i+1:]\n",
    "        # Generate all permutations of the remaining string\n",
    "        for perm in generate_permutations(remaining_string):\n",
    "            permutations.append(current_char + perm)\n",
    "    return permutations\n",
    "\n",
    "def is_derangement(perm, original):\n",
    "    # Check if the permutation is a derangement\n",
    "    return all(perm[i] != original[i] for i in range(len(perm)))\n",
    "\n",
    "def derangements(s):\n",
    "    # Generate all permutations\n",
    "    all_permutations = generate_permutations(s)    \n",
    "    # Filter out permutations that are derangements\n",
    "    derangement_list = [perm for perm in all_permutations if is_derangement(perm, s)]\n",
    "    return derangement_list\n",
    "\n",
    "def print_derangements(s):\n",
    "    # Get derangements and print them\n",
    "    derangement_list = derangements(s)\n",
    "    for derangement in derangement_list:\n",
    "        print(derangement)\n",
    "\n",
    "# Example usage\n",
    "input_string = \"ABCD\"\n",
    "print(f\"All derangements of {input_string}:\")\n",
    "print_derangements(input_string)\n",
    "        \n",
    "\n"
   ]
  },
  {
   "cell_type": "code",
   "execution_count": 76,
   "id": "fc0edf9c-afea-4f69-9891-f236c423b551",
   "metadata": {},
   "outputs": [],
   "source": [
    "####################################################\n",
    "## 2. Sub Factorial\n",
    "####################################################\n",
    "\n",
    "r\"\"\"\n",
    "\n",
    "References\n",
    "==========\n",
    "\n",
    ".. [1] https://en.wikipedia.org/wiki/Subfactorial\n",
    ".. [2] https://mathworld.wolfram.com/Subfactorial.html\n",
    ".. [3] https://docs.sympy.org/latest/modules/functions/combinatorial.html#sympy.functions.combinatorial.factorials.subfactorial\n",
    ".. [4] https://github.com/sympy/sympy/blob/master/sympy/functions/combinatorial/factorials.py\n",
    "\n",
    "\"\"\"\n",
    "\n",
    "\n",
    "def sub_factorial(n):    \n",
    "    if n == 1:\n",
    "        return 0\n",
    "    elif n == 2 :\n",
    "        return 1    \n",
    "    return (n -1)*(sub_factorial(n-1)+sub_factorial(n-2))\n",
    "\n"
   ]
  },
  {
   "cell_type": "markdown",
   "id": "02015353-8637-4158-93a3-82a4172d972d",
   "metadata": {},
   "source": [
    "$$\n",
    "!n = (n - 1) \\left( !(n-1) + !(n-2) \\right)\n",
    "$$"
   ]
  },
  {
   "cell_type": "code",
   "execution_count": 77,
   "id": "fc07060e-efd8-47e6-8e91-8cba064c616f",
   "metadata": {},
   "outputs": [
    {
     "name": "stdout",
     "output_type": "stream",
     "text": [
      "subfactorial of x = 44\n"
     ]
    }
   ],
   "source": [
    "n = 5\n",
    "print(f'subfactorial of x = {sub_factorial(x)}')"
   ]
  },
  {
   "cell_type": "code",
   "execution_count": 78,
   "id": "95b44f7b-ebd5-4a65-bd4b-e64130fbf4d6",
   "metadata": {},
   "outputs": [
    {
     "name": "stdout",
     "output_type": "stream",
     "text": [
      "945\n"
     ]
    }
   ],
   "source": [
    "####################################################\n",
    "## 3. Double Fatorial\n",
    "####################################################\n",
    "r\"\"\"\n",
    "\n",
    "References\n",
    "==========\n",
    "\n",
    ".. [1] https://en.wikipedia.org/wiki/Double_factorial\n",
    "\"\"\"\n",
    "\n",
    "\n",
    "def double_factorial(n):\n",
    "     if n <= 0:\n",
    "         return 1\n",
    "     else:\n",
    "         return n * double_factorial(n-2)\n",
    "\n",
    "\n",
    "## n!! = 9 x 7 x 5 x 3 x 1 = 945\n",
    "print(double_factorial(9))"
   ]
  },
  {
   "cell_type": "markdown",
   "id": "a8fdf193-2c99-45fc-a1df-f96406ba3c6c",
   "metadata": {},
   "source": [
    "$$\n",
    "n!!=\\prod _{k=0}^{\\left\\lceil {\\frac {n}{2}}\\right\\rceil -1}(n-2k)=n(n-2)(n-4)\\cdots\n",
    "$$\n"
   ]
  },
  {
   "cell_type": "code",
   "execution_count": 79,
   "id": "a1233c99-322e-42e8-82ab-68a7713a13de",
   "metadata": {},
   "outputs": [],
   "source": [
    "####################################################\n",
    "## 4. Alpha Function\n",
    "####################################################\n",
    "\n",
    "# 4.1 First Alpha Identity\n",
    "\n",
    "from scipy.integrate import quad\n",
    "\n",
    "def integrand(x, n):\n",
    "    return (1 - x**2)**n\n",
    "\n",
    "def alpha1(n):\n",
    "    result, _ = quad(integrand, 0, 1, args=(n,))\n",
    "    return result\n",
    "\n",
    "\n",
    "\n"
   ]
  },
  {
   "cell_type": "markdown",
   "id": "d2c72059-456a-4e79-8f2f-ecbacb902202",
   "metadata": {},
   "source": [
    "$$\n",
    "\\alpha(n) = \\int_0^1 (1-x^2)^n dx\n",
    "$$"
   ]
  },
  {
   "cell_type": "code",
   "execution_count": 80,
   "id": "002e3769-dc15-4781-a9dc-11f7074ebe16",
   "metadata": {},
   "outputs": [
    {
     "name": "stdout",
     "output_type": "stream",
     "text": [
      "Alpha identy 1 of 9 = 0.2837731927515209\n"
     ]
    }
   ],
   "source": [
    "# Example usage:\n",
    "n = 9  # Example value for n\n",
    "alpha_n = alpha1(n)\n",
    "print(f\"Alpha identy 1 of {n} = {alpha_n}\")"
   ]
  },
  {
   "cell_type": "code",
   "execution_count": 81,
   "id": "827ce332-d27d-4eae-baaf-1934f6ccd47e",
   "metadata": {},
   "outputs": [],
   "source": [
    "# 4.2 Second Alpha identity\n",
    "\n",
    "def alpha2(n):\n",
    "    if n == 0:\n",
    "        return 1\n",
    "    elif n == 1:\n",
    "        return 2/3\n",
    "    else:\n",
    "        return ((2*n)/((2*n)+1)) * alpha(n-1)\n",
    "\n"
   ]
  },
  {
   "cell_type": "markdown",
   "id": "b6bb0df4-fe69-43b4-b581-1ed4122ee208",
   "metadata": {},
   "source": [
    "$$\n",
    "\\alpha(n) = \\frac{(2*n)}{(2*n)+1} \\alpha(n-1)\n",
    "$$"
   ]
  },
  {
   "cell_type": "code",
   "execution_count": 82,
   "id": "2f5a2447-a917-4397-95c2-95677d19a181",
   "metadata": {},
   "outputs": [
    {
     "name": "stdout",
     "output_type": "stream",
     "text": [
      "Alpha identy 2 of 9 = 0.2837731927515209\n"
     ]
    }
   ],
   "source": [
    "alpha_n2 = alpha2(n)\n",
    "print(f\"Alpha identy 2 of {n} = {alpha_n2}\")"
   ]
  },
  {
   "cell_type": "code",
   "execution_count": 83,
   "id": "ce7c40ce-2dc3-4961-adf5-a604b409f196",
   "metadata": {},
   "outputs": [],
   "source": [
    "####################################################\n",
    "## 4. Alpha Function + Double Fatorial\n",
    "####################################################\n",
    "\n",
    "def alpha_double(n):\n",
    "        if n == 0:\n",
    "            return 1\n",
    "        elif n == 1:\n",
    "            return 2/3\n",
    "        else:\n",
    "            return double_factorial(2*n)/double_factorial((2*n) + 1)\n",
    "\n",
    "\n"
   ]
  },
  {
   "cell_type": "markdown",
   "id": "be6218af-cbda-4ab5-8588-642a929811bf",
   "metadata": {},
   "source": [
    "$$\n",
    "\\alpha(n) = \\frac{(2n)!!}{((2n)+1)!!}\n",
    "$$"
   ]
  },
  {
   "cell_type": "code",
   "execution_count": 84,
   "id": "1419f4c5-087b-4b98-9e27-3894dfe8d0c5",
   "metadata": {},
   "outputs": [
    {
     "name": "stdout",
     "output_type": "stream",
     "text": [
      "Alpha identy 3(with double factorial) of 9 = 0.2837731927515209\n"
     ]
    }
   ],
   "source": [
    "alpha_d = alpha_double(n)\n",
    "print(f\"Alpha identy 3(with double factorial) of {n} = {alpha_d}\")"
   ]
  },
  {
   "cell_type": "code",
   "execution_count": 85,
   "id": "5cd8bf38-6f9b-41a1-a735-4a835b3c4ce8",
   "metadata": {},
   "outputs": [],
   "source": [
    "####################################################\n",
    "## 5.0 hyperfactorial function\n",
    "####################################################\n",
    "\n",
    "\n",
    "\n",
    "def hyperfactorial(n):\n",
    "    if n == 1 :\n",
    "        return 1\n",
    "    return (n**n)*hyperfactorial(n-1)\n"
   ]
  },
  {
   "cell_type": "markdown",
   "id": "41e3d4ed-8d55-4be3-8e15-d4dc7d1b426c",
   "metadata": {},
   "source": [
    "$$\n",
    "H(n)=\\prod _{k=1}^{n}k^{k}=1^{1}\\cdot 2^{2}\\cdot 3^{3}\\cdots (n-1)^{n-1}\\cdot n^{n}\n",
    "$$"
   ]
  },
  {
   "cell_type": "code",
   "execution_count": 86,
   "id": "0f3e8b72-e4f8-4bcf-b810-b2e595b0e081",
   "metadata": {},
   "outputs": [
    {
     "name": "stdout",
     "output_type": "stream",
     "text": [
      "hyperfactorial of 3 = 108\n"
     ]
    }
   ],
   "source": [
    "n = 3\n",
    "hyper = hyperfactorial(n)\n",
    "print(f\"hyperfactorial of {n} = {hyper}\")"
   ]
  }
 ],
 "metadata": {
  "kernelspec": {
   "display_name": "Python 3 (ipykernel)",
   "language": "python",
   "name": "python3"
  },
  "language_info": {
   "codemirror_mode": {
    "name": "ipython",
    "version": 3
   },
   "file_extension": ".py",
   "mimetype": "text/x-python",
   "name": "python",
   "nbconvert_exporter": "python",
   "pygments_lexer": "ipython3",
   "version": "3.11.5"
  }
 },
 "nbformat": 4,
 "nbformat_minor": 5
}
