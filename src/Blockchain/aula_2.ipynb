{
 "cells": [
  {
   "cell_type": "code",
   "execution_count": 23,
   "id": "ee730437-cc76-49f3-ae3b-21f6478cebf6",
   "metadata": {},
   "outputs": [],
   "source": [
    "\n"
   ]
  },
  {
   "cell_type": "code",
   "execution_count": 41,
   "id": "19ec25bf-b73f-49f5-b6b6-d08207877b92",
   "metadata": {},
   "outputs": [
    {
     "name": "stdout",
     "output_type": "stream",
     "text": [
      "All derangements of ABCD:\n",
      "BADC\n",
      "BCDA\n",
      "BDAC\n",
      "CADB\n",
      "CDAB\n",
      "CDBA\n",
      "DABC\n",
      "DCAB\n",
      "DCBA\n"
     ]
    }
   ],
   "source": [
    "####################################################\n",
    "## 1. Derangement\n",
    "####################################################\n",
    "\n",
    "\n",
    "\n",
    "def generate_permutations(s):\n",
    "    # Helper function to generate all permutations of a string\n",
    "    if len(s) == 1:\n",
    "        return [s]\n",
    "    permutations = []\n",
    "    for i in range(len(s)):\n",
    "        # Take the current character\n",
    "        current_char = s[i]\n",
    "        # Form the remaining string after removing the current character\n",
    "        remaining_string = s[:i] + s[i+1:]\n",
    "        # Generate all permutations of the remaining string\n",
    "        for perm in generate_permutations(remaining_string):\n",
    "            permutations.append(current_char + perm)\n",
    "    return permutations\n",
    "\n",
    "def is_derangement(perm, original):\n",
    "    # Check if the permutation is a derangement\n",
    "    return all(perm[i] != original[i] for i in range(len(perm)))\n",
    "\n",
    "def derangements(s):\n",
    "    # Generate all permutations\n",
    "    all_permutations = generate_permutations(s)    \n",
    "    # Filter out permutations that are derangements\n",
    "    derangement_list = [perm for perm in all_permutations if is_derangement(perm, s)]\n",
    "    return derangement_list\n",
    "\n",
    "def print_derangements(s):\n",
    "    # Get derangements and print them\n",
    "    derangement_list = derangements(s)\n",
    "    for derangement in derangement_list:\n",
    "        print(derangement)\n",
    "\n",
    "# Example usage\n",
    "input_string = \"ABCD\"\n",
    "print(f\"All derangements of {input_string}:\")\n",
    "print_derangements(input_string)\n",
    "        \n",
    "\n"
   ]
  },
  {
   "cell_type": "code",
   "execution_count": null,
   "id": "fc0edf9c-afea-4f69-9891-f236c423b551",
   "metadata": {},
   "outputs": [],
   "source": [
    "####################################################\n",
    "## 2. Sub Factorial\n",
    "####################################################\n",
    "\n",
    "r\"\"\"\n",
    "\n",
    "References\n",
    "==========\n",
    "\n",
    ".. [1] https://en.wikipedia.org/wiki/Subfactorial\n",
    ".. [2] https://mathworld.wolfram.com/Subfactorial.html\n",
    ".. [3] https://docs.sympy.org/latest/modules/functions/combinatorial.html#sympy.functions.combinatorial.factorials.subfactorial\n",
    ".. [4] https://github.com/sympy/sympy/blob/master/sympy/functions/combinatorial/factorials.py\n",
    "\n",
    "\"\"\"\n",
    "\n",
    "\n",
    "def sub_factorial(n):    \n",
    "    if n == 1:\n",
    "        return 0\n",
    "    elif n == 2 :\n",
    "        return 1    \n",
    "    return (n -1)*(sub_factorial(n-1)+sub_factorial(n-2))\n",
    "\n"
   ]
  },
  {
   "cell_type": "markdown",
   "id": "02015353-8637-4158-93a3-82a4172d972d",
   "metadata": {},
   "source": [
    "$$\n",
    "!n = (n - 1) \\left( !(n-1) + !(n-2) \\right)\n",
    "$$"
   ]
  },
  {
   "cell_type": "code",
   "execution_count": 22,
   "id": "fc07060e-efd8-47e6-8e91-8cba064c616f",
   "metadata": {},
   "outputs": [
    {
     "name": "stdout",
     "output_type": "stream",
     "text": [
      "subfactorial of x = 44\n"
     ]
    }
   ],
   "source": [
    "n = 5\n",
    "print(f'subfactorial of x = {sub_factorial(x)}')"
   ]
  },
  {
   "cell_type": "code",
   "execution_count": null,
   "id": "95b44f7b-ebd5-4a65-bd4b-e64130fbf4d6",
   "metadata": {},
   "outputs": [],
   "source": [
    "####################################################\n",
    "## 3. Duplo Fatorial\n",
    "####################################################"
   ]
  },
  {
   "cell_type": "code",
   "execution_count": null,
   "id": "a1233c99-322e-42e8-82ab-68a7713a13de",
   "metadata": {},
   "outputs": [],
   "source": [
    "####################################################\n",
    "## 4. Função ALfa\n",
    "####################################################"
   ]
  }
 ],
 "metadata": {
  "kernelspec": {
   "display_name": "Python 3 (ipykernel)",
   "language": "python",
   "name": "python3"
  },
  "language_info": {
   "codemirror_mode": {
    "name": "ipython",
    "version": 3
   },
   "file_extension": ".py",
   "mimetype": "text/x-python",
   "name": "python",
   "nbconvert_exporter": "python",
   "pygments_lexer": "ipython3",
   "version": "3.11.5"
  }
 },
 "nbformat": 4,
 "nbformat_minor": 5
}
