{
 "cells": [
  {
   "cell_type": "code",
   "execution_count": 5,
   "id": "6def7283-4a39-468e-bd59-a30414424754",
   "metadata": {},
   "outputs": [],
   "source": [
    "####################################################\n",
    "## 1.0 Diffie Hellman\n",
    "####################################################\n",
    "def diffie_hellman(i,P):\n",
    "    # Common Numbers\n",
    "    print(f'i : {i}')\n",
    "    print(f'P : {P}')\n",
    "    \n",
    "    # Ale private key\n",
    "    ale_private_key = 9 \n",
    "    ale_public_key = ( i ** ale_private_key ) % P\n",
    "    \n",
    "    print(f' Ale Public key: {ale_public_key}')\n",
    "    \n",
    "    # Bia private key\n",
    "    bia_private_key = 6 \n",
    "    bia_public_key = ( i ** bia_private_key ) % P\n",
    "    \n",
    "    print(f' Bia Public key: {bia_public_key}')\n",
    "    \n",
    "    # Common Private Key\n",
    "    \n",
    "    # Ale\n",
    "    Ka = (bia_public_key ** ale_private_key) % P\n",
    "    print(f'Ka: {Ka}')\n",
    "    #Bia\n",
    "    Kb = (ale_public_key ** bia_private_key) % P \n",
    "    print(f'Ka: {Ka}')\n",
    "    \n",
    "    print(f'{Ka} == {Kb} : {Ka == Kb}')\n",
    "\n",
    "    return {\"ka\": Ka, \"kb\":Kb}\n"
   ]
  },
  {
   "cell_type": "code",
   "execution_count": 6,
   "id": "f1f1f190-fbea-4dc9-ad2d-e0292f4d9099",
   "metadata": {},
   "outputs": [
    {
     "name": "stdout",
     "output_type": "stream",
     "text": [
      "i : 3\n",
      "P : 17\n",
      " Ale Public key: 14\n",
      " Bia Public key: 15\n",
      "Ka: 15\n",
      "Ka: 15\n",
      "15 == 15 : True\n"
     ]
    }
   ],
   "source": [
    "# 2.0 Prandini DH\n",
    "i = 3\n",
    "P = 17\n",
    "diff =  diffie_hellman(i,P)"
   ]
  },
  {
   "cell_type": "code",
   "execution_count": 7,
   "id": "42c58bac-37bd-4731-8ecd-db2021b199ac",
   "metadata": {},
   "outputs": [
    {
     "name": "stdout",
     "output_type": "stream",
     "text": [
      "i : 3\n",
      "P : 3\n",
      " Ale Public key: 0\n",
      " Bia Public key: 0\n",
      "Ka: 0\n",
      "Ka: 0\n",
      "0 == 0 : True\n"
     ]
    },
    {
     "data": {
      "text/plain": [
       "{'ka': 0, 'kb': 0}"
      ]
     },
     "execution_count": 7,
     "metadata": {},
     "output_type": "execute_result"
    }
   ],
   "source": [
    "# Random generator\n",
    "def isPrime(n):\n",
    "  if n == 2 or n == 3: return True\n",
    "  if n < 2 or n%2 == 0: return False\n",
    "  if n < 9: return True\n",
    "  if n%3 == 0: return False\n",
    "  r = int(n**0.5)\n",
    "  # since all primes > 3 are of the form 6n ± 1\n",
    "  # start with f=5 (which is prime)\n",
    "  # and test f, f+2 for being prime\n",
    "  # then loop by 6. \n",
    "  f = 5\n",
    "  while f <= r:\n",
    "    if n % f == 0: return False\n",
    "    if n % (f+2) == 0: return False\n",
    "    f += 6\n",
    "  return True    \n",
    "\n",
    "import random\n",
    "primes = [i for i in range(0,30) if isPrime(i)]\n",
    "P = random.choice(primes)\n",
    "\n",
    "diffie_hellman(3,P)"
   ]
  },
  {
   "cell_type": "code",
   "execution_count": 13,
   "id": "d2a8715d-d74e-4ade-9f38-a800dcffb40a",
   "metadata": {},
   "outputs": [
    {
     "name": "stdout",
     "output_type": "stream",
     "text": [
      "The encrypted message of Ale is : 225\n",
      "The encrypted message of Bia is : 50625\n"
     ]
    }
   ],
   "source": [
    "# 3.0 troca de Informações\n",
    "\n",
    "#\n",
    "\n",
    "\n",
    "def encrypt_message(m,K):\n",
    "    return K ** m\n",
    "\n",
    "\n",
    "# Ale\n",
    "info_ale  = 2\n",
    "\n",
    "EM_A = encrypt_message(info_ale,diff['ka'])\n",
    "print(f'The encrypted message of Ale is : {EM_A}')\n",
    "#Bia\n",
    "info_bia = 4\n",
    "EM_B = encrypt_message(info_bia,diff['kb'])\n",
    "print(f'The encrypted message of Bia is : {EM_B}')\n",
    "\n",
    "\n"
   ]
  },
  {
   "cell_type": "code",
   "execution_count": 14,
   "id": "6e26ee3d-9694-456a-934a-0a9799cc7a5e",
   "metadata": {},
   "outputs": [
    {
     "name": "stdout",
     "output_type": "stream",
     "text": [
      "50625.00000000001\n",
      "225.0\n"
     ]
    }
   ],
   "source": [
    "import math\n",
    "def decrypt_message(A, decrypt_message):\n",
    "    N = A ** decrypt_message\n",
    "    x = math.log(N)/math.log(A)    \n",
    "    return x\n",
    "\n",
    "# Ale\n",
    "decrypted_message_ale = decrypt_message(info_ale,EM_B)\n",
    "print(decrypted_message_ale)\n",
    "# Bia\n",
    "decrypted_message_bia = decrypt_message(info_bia,EM_A)\n",
    "print(decrypted_message_bia)"
   ]
  },
  {
   "cell_type": "code",
   "execution_count": 19,
   "id": "c94cfdc9-25f8-41c3-8fcb-8029f79aafae",
   "metadata": {},
   "outputs": [
    {
     "name": "stdout",
     "output_type": "stream",
     "text": [
      "Plaintext: Hello, World!\n",
      "Ciphertext: Khoor, Zruog!\n",
      "Deciphertext:  Hello, World!\n"
     ]
    }
   ],
   "source": [
    "####################################################\n",
    "## 2.0 Ceasar Cipher\n",
    "####################################################\n",
    "def caesar_cipher(text, shift):\n",
    "    result = \"\"\n",
    "    \n",
    "    for char in text:\n",
    "        if char.isalpha():  # Check if the character is a letter\n",
    "            shift_amount = 65 if char.isupper() else 97\n",
    "            # Shift character and handle wrapping using modulo\n",
    "            result += chr((ord(char) - shift_amount + shift) % 26 + shift_amount)\n",
    "        else:\n",
    "            result += char  # Non-alphabet characters are added unchanged\n",
    "    \n",
    "    return result\n",
    "\n",
    "# Example usage:\n",
    "plaintext = \"Hello, World!\"\n",
    "shift = 3\n",
    "ciphertext = caesar_cipher(plaintext, shift)\n",
    "deciphertext = caesar_cipher(ciphertext, -shift)\n",
    "print(\"Plaintext:\", plaintext)\n",
    "print(\"Ciphertext:\", ciphertext)\n",
    "print(\"Deciphertext: \",deciphertext)"
   ]
  },
  {
   "cell_type": "code",
   "execution_count": null,
   "id": "0f1fb004-2630-452f-9e07-d61c36e5933c",
   "metadata": {},
   "outputs": [],
   "source": []
  }
 ],
 "metadata": {
  "kernelspec": {
   "display_name": "Python 3 (ipykernel)",
   "language": "python",
   "name": "python3"
  },
  "language_info": {
   "codemirror_mode": {
    "name": "ipython",
    "version": 3
   },
   "file_extension": ".py",
   "mimetype": "text/x-python",
   "name": "python",
   "nbconvert_exporter": "python",
   "pygments_lexer": "ipython3",
   "version": "3.11.5"
  }
 },
 "nbformat": 4,
 "nbformat_minor": 5
}
