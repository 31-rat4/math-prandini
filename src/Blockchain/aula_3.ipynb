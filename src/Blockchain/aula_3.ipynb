{
 "cells": [
  {
   "cell_type": "code",
   "execution_count": 28,
   "id": "cf443e94-a58d-4455-8ba4-c356adb238a8",
   "metadata": {},
   "outputs": [
    {
     "name": "stdout",
     "output_type": "stream",
     "text": [
      "The hexadecimal representation of 123 is: 7b\n"
     ]
    }
   ],
   "source": [
    "####################################################\n",
    "## 4.0 Convertion Decimal to Hexadecimal\n",
    "####################################################\n",
    "\n",
    "def decimal_to_hexadecimal(decimal_num):\n",
    "    if decimal_num == 0:\n",
    "        return \"0x0\"\n",
    "\n",
    "    hex_digits = \"0123456789abcdef\"\n",
    "    hex_result = \"\"\n",
    "\n",
    "    while decimal_num > 0:\n",
    "        remainder = decimal_num % 16\n",
    "        hex_result = hex_digits[remainder] + hex_result\n",
    "        decimal_num = decimal_num // 16\n",
    "\n",
    "    return hex_result\n",
    "\n",
    "# Example usage:\n",
    "decimal_number = 123  # Replace with your desired decimal number\n",
    "hexadecimal_number = decimal_to_hexadecimal(decimal_number)\n",
    "print(f\"The hexadecimal representation of {decimal_number} is: {hexadecimal_number}\")"
   ]
  },
  {
   "cell_type": "code",
   "execution_count": null,
   "id": "691a6b40-294b-4bbb-81db-f9015aec5c7b",
   "metadata": {},
   "outputs": [],
   "source": [
    "####################################################\n",
    "## 5.0 Modulus\n",
    "####################################################\n",
    "\n",
    "# Python module operator = %"
   ]
  },
  {
   "cell_type": "markdown",
   "id": "523059e3-b94f-4617-be77-01a67cdc529c",
   "metadata": {},
   "source": [
    "## 5.1 Multiplicatio Proprietati\n",
    "$$\n",
    "(a.b) \\mod{c} = [(a \\mod{c} ).(b \\mod{c})] \\mod{c}\n",
    "$$\n",
    "---"
   ]
  },
  {
   "cell_type": "code",
   "execution_count": 39,
   "id": "0600ba55-de2e-4292-a44e-8669415ab71a",
   "metadata": {},
   "outputs": [
    {
     "name": "stdout",
     "output_type": "stream",
     "text": [
      "(17 * 90) mod 7 = 4\n",
      "[(17 mod 7) * (90 mod 7)] mod 7 = 4\n"
     ]
    }
   ],
   "source": [
    "# Example\n",
    "a = 17\n",
    "b = 90\n",
    "c = 7\n",
    "\n",
    "result = (a*b) % c\n",
    "print(f'({a} * {b}) mod {c} = {result}')\n",
    "result2 = ((a % c) * (b % c)) % c\n",
    "print(f'[({a} mod {c}) * ({b} mod {c})] mod {c} = {result2}')\n"
   ]
  },
  {
   "cell_type": "markdown",
   "id": "aa39e6b5-ff20-4767-9c4f-a91a3e2215e3",
   "metadata": {},
   "source": [
    "## 5.2 Exponentis Proprietati\n",
    "$$\n",
    "a^{b+d} \\mod{c} = [(a^b \\mod{c} ).(a^d \\mod{c})] \\mod{c}\n",
    "$$\n",
    "---"
   ]
  },
  {
   "cell_type": "code",
   "execution_count": 51,
   "id": "0c274a69-f4c9-49f6-bb2e-eb9fc6e718e4",
   "metadata": {},
   "outputs": [
    {
     "name": "stdout",
     "output_type": "stream",
     "text": [
      "(2 ^ (5+4) mod 9 = 8\n",
      "((2^5) mod 9)((2^4) mod c) mod c = 8\n"
     ]
    }
   ],
   "source": [
    "# Example\n",
    "a = 2\n",
    "b = 5\n",
    "d = 4\n",
    "c = 9\n",
    "\n",
    "result = (a**(b+d)) % c\n",
    "print(f'({a} ^ ({b}+{d}) mod {c} = {result}')\n",
    "result2 = (((a**b) % c) * ((a**d) % c)) % c\n",
    "print(f'(({a}^{b}) mod {c})(({a}^{d}) mod c) mod c = {result2}')\n"
   ]
  },
  {
   "cell_type": "markdown",
   "id": "5cba3cb7-f0b6-48ea-b07e-d34f648a1502",
   "metadata": {},
   "source": [
    "## 5.3 Summa Proprietati\n",
    "$$\n",
    "(a+b) \\mod{c} = [(a \\mod{c} ) + (b \\mod{c})] \\mod{c}\n",
    "$$\n",
    "---"
   ]
  },
  {
   "cell_type": "code",
   "execution_count": 53,
   "id": "5e1e7ff0-8d2f-431f-8c81-da2008ba96a7",
   "metadata": {},
   "outputs": [
    {
     "name": "stdout",
     "output_type": "stream",
     "text": [
      "100 + 46 mod 7 = 6\n",
      "[(100 mod 7) + (46 mod 7)] mod 7 = 6\n"
     ]
    }
   ],
   "source": [
    "# Example\n",
    "a = 100\n",
    "b = 46\n",
    "c = 7\n",
    "\n",
    "result = (a + b) % c\n",
    "print(f'{a} + {b} mod {c} = {result}')\n",
    "result2 = ((a % c) + (b % c)) % c\n",
    "print(f'[({a} mod {c}) + ({b} mod {c})] mod {c} = {result2}')\n"
   ]
  },
  {
   "cell_type": "markdown",
   "id": "4a117efd-ddb8-4b23-bdc2-0f8806fbc713",
   "metadata": {},
   "source": [
    "## 5.4 Subtraction Proprietati\n",
    "$$\n",
    "(a-b) \\mod{c} = [(a \\mod{c} ) - (b \\mod{c})] \\mod{c}\n",
    "$$\n",
    "---"
   ]
  },
  {
   "cell_type": "code",
   "execution_count": 54,
   "id": "bef32dbf-225f-4c17-8203-18be0c45e4b3",
   "metadata": {},
   "outputs": [
    {
     "name": "stdout",
     "output_type": "stream",
     "text": [
      "1493 - 81 mod 9 = 8\n",
      "[(1493 mod 9) - (81 mod 9)] mod 9 = 8\n"
     ]
    }
   ],
   "source": [
    "# Example\n",
    "a = 1493\n",
    "b = 81\n",
    "c = 9\n",
    "\n",
    "result = (a - b) % c\n",
    "print(f'{a} - {b} mod {c} = {result}')\n",
    "result2 = ((a % c) - (b % c)) % c\n",
    "print(f'[({a} mod {c}) - ({b} mod {c})] mod {c} = {result2}')\n"
   ]
  },
  {
   "cell_type": "code",
   "execution_count": 24,
   "id": "38fa8b8a-2885-4101-8d98-78aa33eceafe",
   "metadata": {},
   "outputs": [],
   "source": [
    "####################################################\n",
    "## 1. Nonce genearation\n",
    "####################################################\n",
    "import datetime\n",
    "import hashlib\n",
    "import json\n",
    "\n",
    "\n",
    "class Blockchain:\n",
    "\n",
    "    def __init__(self, *args, **kwargs):\n",
    "        self.config = {\n",
    "            \"proof_hash_size\":1\n",
    "        }        \n",
    "        self.chain = []\n",
    "        # When create the blockchain, also create the genesis block \n",
    "        self.create_block(nonce = 1, previous_hash = '0')\n",
    "\n",
    "    def create_block(self, nonce, previous_hash):\n",
    "        block = {'index': len(self.chain) + 1,\n",
    "                 'timestamp': str(datetime.datetime.now()),\n",
    "                 'nonce': nonce,\n",
    "                 'previous_hash': previous_hash}\n",
    "        self.chain.append(block)\n",
    "        return block\n",
    "\n",
    "    def get_previous_block(self):\n",
    "        return self.chain[-1]\n",
    "\n",
    "    def proof_of_work(self, previous_proof):\n",
    "        new_nonce = 1\n",
    "        check_proof = False\n",
    "        while check_proof is False:\n",
    "            hash_operation = hashlib.sha256(str(new_nonce**2 - previous_proof**2).encode()).hexdigest()\n",
    "            print(\"is this hash valid ?\")\n",
    "            print(hash_operation)\n",
    "            if self._verify_hash_proof(hash_operation):\n",
    "                print(\"yes\")\n",
    "                check_proof = True\n",
    "            else:\n",
    "                print(\"no\")\n",
    "                new_nonce += 1\n",
    "        print(new_nonce)\n",
    "        return new_nonce\n",
    "\n",
    "    def _verify_hash_proof(self, hash):\n",
    "        return str(hash[:self.config[\"proof_hash_size\"]]) == str(self.config[\"proof_hash_size\"] * 0)\n",
    "        \n",
    "    \n",
    "    def hash(self, block):\n",
    "        encoded_block = json.dumps(block, sort_keys = True).encode()\n",
    "        return hashlib.sha256(encoded_block).hexdigest()\n",
    "    \n",
    "    def is_chain_valid(self, chain):\n",
    "        previous_block = chain[0]\n",
    "        block_index = 1\n",
    "        while block_index < len(chain):\n",
    "            block = chain[block_index]\n",
    "            if block['previous_hash'] != self.hash(previous_block):\n",
    "                return False\n",
    "            previous_nonce = previous_block['nonce']\n",
    "            nonce = block['nonce']\n",
    "            hash_operation = hashlib.sha256(str(nonce**2 - previous_nonce**2).encode()).hexdigest()\n",
    "            if self._verify_hash_proof(hash_operation):\n",
    "                return False\n",
    "            previous_block = block\n",
    "            block_index += 1\n",
    "        return True\n"
   ]
  },
  {
   "cell_type": "code",
   "execution_count": 25,
   "id": "8e66ef2b-bb9d-4b61-876a-6b4e29941d92",
   "metadata": {},
   "outputs": [],
   "source": [
    "# Create a new Blockchain\n",
    "blockchain = Blockchain()"
   ]
  },
  {
   "cell_type": "code",
   "execution_count": 26,
   "id": "83e33121-03ea-4c62-8af9-97acb99216fe",
   "metadata": {},
   "outputs": [
    {
     "name": "stdout",
     "output_type": "stream",
     "text": [
      "is this hash valid ?\n",
      "5feceb66ffc86f38d952786c6d696c79c2dbc239dd4e91b46729d73a27fb57e9\n",
      "no\n",
      "is this hash valid ?\n",
      "4e07408562bedb8b60ce05c1decfe3ad16b72230967de01f640b7e4729b49fce\n",
      "no\n",
      "is this hash valid ?\n",
      "2c624232cdd221771294dfbb310aca000a0df6ac8b66b696d90ef06fdefb64a3\n",
      "no\n",
      "is this hash valid ?\n",
      "e629fa6598d732768f7c726b4b621285f9c3b85303900aa912017db7617d8bdb\n",
      "no\n",
      "is this hash valid ?\n",
      "c2356069e9d1e79ca924378153cfbbfb4d4416b1f99d41a2940bfdb66c5319db\n",
      "no\n",
      "is this hash valid ?\n",
      "9f14025af0065b30e47e23ebb3b491d39ae8ed17d33739e5ff3827ffb3634953\n",
      "no\n",
      "is this hash valid ?\n",
      "98010bd9270f9b100b6214a21754fd33bdc8d41b2bc9f9dd16ff54d3c34ffd71\n",
      "no\n",
      "is this hash valid ?\n",
      "da4ea2a5506f2693eae190d9360a1f31793c98a1adade51d93533a6f520ace1c\n",
      "no\n",
      "is this hash valid ?\n",
      "48449a14a4ff7d79bb7a1b6f3d488eba397c36ef25634c111b49baf362511afc\n",
      "no\n",
      "is this hash valid ?\n",
      "8c1f1046219ddd216a023f792356ddf127fce372a72ec9b4cdac989ee5b0b455\n",
      "no\n",
      "is this hash valid ?\n",
      "2abaca4911e68fa9bfbf3482ee797fd5b9045b841fdff7253557c5fe15de6477\n",
      "no\n",
      "is this hash valid ?\n",
      "d6f0c71ef0c88e45e4b3a2118fcb83b0def392d759c901e9d755d0e879028727\n",
      "no\n",
      "is this hash valid ?\n",
      "80c3cd40fa35f9088b8741bd8be6153de05f661cfeeb4625ffbf5f4a6c3c02c4\n",
      "no\n",
      "is this hash valid ?\n",
      "1dfacb2ea5a03e0a915999e03b5a56196f1b1664d2f768d1b7eff60ac059789d\n",
      "no\n",
      "is this hash valid ?\n",
      "84a5092e4a5b6fe968fd523fb2fc917dbffae44105f82b6b94c8ed5b9a800223\n",
      "no\n",
      "is this hash valid ?\n",
      "9556b82499cc0aaf86aee7f0d253e17c61b7ef73d48a295f37d98f08b04ffa7f\n",
      "no\n",
      "is this hash valid ?\n",
      "23c657f2efda7731a3c1990b25f318fa2eb1332208f97ab9cc2a7eac70ab5a76\n",
      "no\n",
      "is this hash valid ?\n",
      "3949ac1596ec77106a709a618bf5adcb19b77537ce8bcbdf54ff830169cdd084\n",
      "no\n",
      "is this hash valid ?\n",
      "838f461c2fa673cec73e6eecdafa88b127802d6cb0a61c53175197a122cb645a\n",
      "no\n",
      "is this hash valid ?\n",
      "0f78540965a86402578f8188c826c1cb6c7ddcb608ae3a3201e532c7cacb6ce3\n",
      "yes\n",
      "20\n",
      "new block:\n",
      "{'index': 2, 'timestamp': '2024-07-17 02:21:52.049820', 'nonce': 20, 'previous_hash': '7c713f9438cfb30f8eb78af98cbf2a95494544d26f57aad6565c6aec0c833c22'}\n"
     ]
    }
   ],
   "source": [
    "# Let's Mine a block !\n",
    "previous_block = blockchain.get_previous_block()\n",
    "previous_nonce = previous_block['nonce']\n",
    "nonce = blockchain.proof_of_work(previous_nonce)\n",
    "previous_hash = blockchain.hash(previous_block)\n",
    "new_block = blockchain.create_block(nonce, previous_hash)\n",
    "print(\"new block:\" )\n",
    "print(new_block)\n",
    "      "
   ]
  }
 ],
 "metadata": {
  "kernelspec": {
   "display_name": "Python 3 (ipykernel)",
   "language": "python",
   "name": "python3"
  },
  "language_info": {
   "codemirror_mode": {
    "name": "ipython",
    "version": 3
   },
   "file_extension": ".py",
   "mimetype": "text/x-python",
   "name": "python",
   "nbconvert_exporter": "python",
   "pygments_lexer": "ipython3",
   "version": "3.11.5"
  }
 },
 "nbformat": 4,
 "nbformat_minor": 5
}
